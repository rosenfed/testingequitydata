{
  "metadata": {
    "language_info": {
      "codemirror_mode": {
        "name": "python",
        "version": 3
      },
      "file_extension": ".py",
      "mimetype": "text/x-python",
      "name": "python",
      "nbconvert_exporter": "python",
      "pygments_lexer": "ipython3",
      "version": "3.8"
    },
    "kernelspec": {
      "name": "python",
      "display_name": "Python (Pyodide)",
      "language": "python"
    }
  },
  "nbformat_minor": 4,
  "nbformat": 4,
  "cells": [
    {
      "cell_type": "code",
      "source": "# Import packages and New York City demographic data by ZCTA as well as Covid-19 testing data.\n\nimport pandas as pd\nimport numpy as np\nimport statsmodels.api as sm\nfrom statsmodels.genmod.families import Poisson\nimport matplotlib.pyplot as plt\nimport scipy.stats as stats\nfrom sklearn.linear_model import PoissonRegressor\n\nplt.rcParams['figure.figsize'] = (20.0, 10.0)\n\nacsimport = pd.read_csv (r\"ACSimport4.csv\") ",
      "metadata": {
        "trusted": true
      },
      "execution_count": null,
      "outputs": []
    },
    {
      "cell_type": "code",
      "source": "#negative binomial model, total tests\nfamnegbin = sm.families.NegativeBinomial()\noffset = np.log(acsimport['total_pop'])\nexog = acsimport[['Median Income', 'Median Age', 'Percent Female', 'Percent POC', 'Speaks only English %']]\nendog = acsimport[['updatedhhctests']]\nglm_negbin = sm.GLM(endog, exog,M=sm.robust.norms.HuberT(),family=famnegbin,link='log',offset=offset)\nnegbin_results=glm_negbin.fit(cov_type=\"hc1\")\nprint(negbin_results.summary())",
      "metadata": {
        "trusted": true
      },
      "execution_count": null,
      "outputs": []
    },
    {
      "cell_type": "code",
      "source": "# exponentiating results for total tests, repeat for positive tests\nprint('Median Income')\nprint(np.exp(-1.007e-05))\n#print(np.exp(-0.000),np.exp(0.000))\n\n print('Median Age')\nprint(np.exp(-0.0115))\n#print(np.exp(-0.060),np.exp(-0.048))\n\n print('Percent Female')\nprint(np.exp(1.0481))\n#print(np.exp(-0.000),np.exp(0.000))\n\n print('Percent POC')\nprint(np.exp(-0.0228 ))\n#print(np.exp(-0.0000966),np.exp(-0.000))\n\n print('Speaks only English %')\nprint(np.exp( 0.4689))\n#print(np.exp(-0.000),np.exp(0.000))",
      "metadata": {
        "trusted": true
      },
      "execution_count": null,
      "outputs": []
    },
    {
      "cell_type": "code",
      "source": "#negative binomial model positive cases\nfamnegbin = sm.families.NegativeBinomial()\noffset = np.log(acsimport['total_pop'])\nexog = acsimport[['Median Income', 'Median Age', 'Percent Female', 'Percent POC', 'Speaks only English %']]\nendog = acsimport[['updatedhhcpositivetests']]\nglm_negbin = sm.GLM(endog, exog,M=sm.robust.norms.HuberT(),family=famnegbin,link='log',offset=offset)\nnegbin_results=glm_negbin.fit(cov_type=\"hc1\")\nprint(negbin_results.summary())",
      "metadata": {},
      "execution_count": null,
      "outputs": []
    }
  ]
}